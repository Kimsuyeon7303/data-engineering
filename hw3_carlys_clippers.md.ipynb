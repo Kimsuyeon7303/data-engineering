{
 "cells": [
  {
   "cell_type": "code",
   "execution_count": 11,
   "id": "0b068fed",
   "metadata": {},
   "outputs": [],
   "source": [
    "import numpy as np"
   ]
  },
  {
   "cell_type": "code",
   "execution_count": 12,
   "id": "df3225a3",
   "metadata": {},
   "outputs": [],
   "source": [
    "hairstyles = np.array([\"bouffant\", \"pixie\", \"dreadlocks\", \"crew\", \"bowl\", \"bob\", \"mohawk\", \"flattop\"])\n",
    "prices = np.array([30, 25, 40, 20, 20, 35, 50, 35])\n",
    "last_week = np.array([2, 3, 5, 8, 4, 4, 6, 2])"
   ]
  },
  {
   "cell_type": "code",
   "execution_count": 13,
   "id": "6121299a",
   "metadata": {},
   "outputs": [
    {
     "name": "stdout",
     "output_type": "stream",
     "text": [
      "Average_price is 31.875\n"
     ]
    }
   ],
   "source": [
    "total_price = 0\n",
    "\n",
    "for i in range(len(prices)):\n",
    "    total_price += prices[i]\n",
    "\n",
    "average_price = total_price/len(prices)\n",
    "\n",
    "print(\"Average_price is\",average_price)"
   ]
  },
  {
   "cell_type": "code",
   "execution_count": 14,
   "id": "424dd913",
   "metadata": {},
   "outputs": [
    {
     "name": "stdout",
     "output_type": "stream",
     "text": [
      "[25 20 35 15 15 30 45 30]\n"
     ]
    }
   ],
   "source": [
    "new_prices = prices-5\n",
    "print(new_prices)"
   ]
  },
  {
   "cell_type": "code",
   "execution_count": 15,
   "id": "62a38bca",
   "metadata": {},
   "outputs": [
    {
     "name": "stdout",
     "output_type": "stream",
     "text": [
      "1085\n"
     ]
    }
   ],
   "source": [
    "total_revenue = 0\n",
    "\n",
    "for i in range(len(hairstyles)):\n",
    "    total_revenue += prices[i] * last_week[i]\n",
    "\n",
    "print(total_revenue)"
   ]
  },
  {
   "cell_type": "code",
   "execution_count": 16,
   "id": "37e9c38c",
   "metadata": {},
   "outputs": [
    {
     "name": "stdout",
     "output_type": "stream",
     "text": [
      "Average daily revenue is 155.0\n"
     ]
    }
   ],
   "source": [
    "average_daily_revenue = total_revenue/7\n",
    "\n",
    "print(\"Average daily revenue is\",average_daily_revenue)"
   ]
  },
  {
   "cell_type": "code",
   "execution_count": 17,
   "id": "a88bfc8d",
   "metadata": {},
   "outputs": [
    {
     "name": "stdout",
     "output_type": "stream",
     "text": [
      "['bouffant', 'pixie', 'crew', 'bowl']\n"
     ]
    }
   ],
   "source": [
    "cut_under_30 = [hairstyles[i] for i in range(len(new_prices)-1)\n",
    "                if new_prices[i] < 30]\n",
    "print(cut_under_30)"
   ]
  },
  {
   "cell_type": "code",
   "execution_count": null,
   "id": "36771c6a",
   "metadata": {},
   "outputs": [],
   "source": []
  }
 ],
 "metadata": {
  "kernelspec": {
   "display_name": "Python 3 (ipykernel)",
   "language": "python",
   "name": "python3"
  },
  "language_info": {
   "codemirror_mode": {
    "name": "ipython",
    "version": 3
   },
   "file_extension": ".py",
   "mimetype": "text/x-python",
   "name": "python",
   "nbconvert_exporter": "python",
   "pygments_lexer": "ipython3",
   "version": "3.9.12"
  }
 },
 "nbformat": 4,
 "nbformat_minor": 5
}
